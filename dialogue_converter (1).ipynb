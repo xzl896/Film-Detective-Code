{
 "cells": [
  {
   "cell_type": "code",
   "execution_count": 11,
   "metadata": {},
   "outputs": [],
   "source": [
    "import csv\n",
    "import json\n",
    "def convertDialog(sourcedoc, outputdoc, idNum):\n",
    "    with open(sourcedoc, \"r\", encoding=\"utf-8\") as f:\n",
    "        reader=csv.reader(f)\n",
    "        next(reader) #Skip the first row (headings)\n",
    "        data={} #Empty dictionary\n",
    "        data[\"id\"] = str(idNum)\n",
    "        utterances=[] #Empty array\n",
    "        numLines = 0 #Number of utterances so far - to be used as index for array\n",
    "        for row in reader:\n",
    "            utterances.append({}) #Dictionary for each utterance\n",
    "            utterances[numLines][\"scene\"] = row[0] #Scene image\n",
    "            utterances[numLines][\"speaker\"] = {} #Empty dictionary\n",
    "            utterances[numLines][\"speaker\"][\"name\"] = row[1] #Speaker name\n",
    "            utterances[numLines][\"speaker\"][\"img\"] = row[2] #Speaker image\n",
    "            utterances[numLines][\"text\"] = row[3] #Spoken text\n",
    "            utterances[numLines][\"audio\"] = row[4] #Audio clip\n",
    "            numLines=numLines+1 #Increment number of utterances\n",
    "            data[\"utterances\"] = utterances #Add array to dictionary\n",
    "\n",
    "    with open (outputdoc, \"w\", encoding=\"utf-8\") as f:\n",
    "        f.write(json.dumps(data, indent=4))"
   ]
  },
  {
   "cell_type": "code",
   "execution_count": 12,
   "metadata": {},
   "outputs": [],
   "source": [
    "sourcedoc = \"dialogue_format.csv\"\n",
    "outputdoc = \"testDialogue-2.json\"\n",
    "idNum = 2\n",
    "convertDialog(sourcedoc, outputdoc, idNum)"
   ]
  },
  {
   "cell_type": "code",
   "execution_count": null,
   "metadata": {},
   "outputs": [],
   "source": []
  }
 ],
 "metadata": {
  "kernelspec": {
   "display_name": "Python 3",
   "language": "python",
   "name": "python3"
  },
  "language_info": {
   "codemirror_mode": {
    "name": "ipython",
    "version": 3
   },
   "file_extension": ".py",
   "mimetype": "text/x-python",
   "name": "python",
   "nbconvert_exporter": "python",
   "pygments_lexer": "ipython3",
   "version": "3.7.3"
  }
 },
 "nbformat": 4,
 "nbformat_minor": 4
}
